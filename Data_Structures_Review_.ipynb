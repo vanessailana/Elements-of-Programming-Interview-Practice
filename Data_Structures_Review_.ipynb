{
  "nbformat": 4,
  "nbformat_minor": 0,
  "metadata": {
    "colab": {
      "provenance": [],
      "authorship_tag": "ABX9TyOJ4Et1zJg85El8uAZlORDL",
      "include_colab_link": true
    },
    "kernelspec": {
      "name": "python3",
      "display_name": "Python 3"
    },
    "language_info": {
      "name": "python"
    }
  },
  "cells": [
    {
      "cell_type": "markdown",
      "metadata": {
        "id": "view-in-github",
        "colab_type": "text"
      },
      "source": [
        "<a href=\"https://colab.research.google.com/github/vanessailana/Elements-of-Programming-Interview-Practice/blob/main/Data_Structures_Review_.ipynb\" target=\"_parent\"><img src=\"https://colab.research.google.com/assets/colab-badge.svg\" alt=\"Open In Colab\"/></a>"
      ]
    },
    {
      "cell_type": "markdown",
      "source": [
        "Given an array of integers, return a new array such that each element at index i of the new arrray is the product of all the numbers in the original array except the one at i. "
      ],
      "metadata": {
        "id": "_fItx9B0IdmG"
      }
    },
    {
      "cell_type": "code",
      "source": [
        "#input \n",
        "#[1,2,3,4,5]\n",
        "\n",
        "#output\n",
        "#[120,60,40,30,24]\n",
        "\n",
        "nums=[1,2,3,4,5]\n",
        "def products(nums):\n",
        "  new_nums=[] \n",
        "  for i in nums:\n",
        "    nums_product=1\n",
        "   \n",
        "\n",
        "    for j in nums:\n",
        "\n",
        "        if j!=i:\n",
        "          nums_product=nums_product * j \n",
        "\n",
        "    new_nums.append(nums_product)\n",
        "  return new_nums\n",
        "        \n",
        "\n",
        "  \n",
        "\n",
        "print(products(nums))\n"
      ],
      "metadata": {
        "colab": {
          "base_uri": "https://localhost:8080/"
        },
        "id": "-tgrYSvLIk_2",
        "outputId": "9a99c3b8-6aa1-4639-b8b5-8c6366493d9b"
      },
      "execution_count": 6,
      "outputs": [
        {
          "output_type": "stream",
          "name": "stdout",
          "text": [
            "[120, 60, 40, 30, 24]\n"
          ]
        }
      ]
    }
  ]
}